{
 "cells": [
  {
   "cell_type": "markdown",
   "metadata": {},
   "source": [
    "# Data PreProcessing"
   ]
  },
  {
   "cell_type": "markdown",
   "metadata": {},
   "source": [
    "### Data \n",
    "The Given data can be in any form ex- text,image,video,audio\n",
    "\n",
    "- Data Preprocessing is a process to convert the raw data into meaningful data using different techniques"
   ]
  },
  {
   "cell_type": "markdown",
   "metadata": {},
   "source": [
    "Data in real world is dirty \n",
    "it can be \n",
    "- - Incomplete\n",
    "- - Noisy\n",
    "- - Inconsistent\n",
    "- - Duplicate\n"
   ]
  },
  {
   "cell_type": "markdown",
   "metadata": {},
   "source": [
    "Meaning of Quality Data \n",
    "- Accuracy\n",
    "- Completeness\n",
    "- Consistency\n",
    "- Believability\n",
    "- Interpretability"
   ]
  },
  {
   "cell_type": "markdown",
   "metadata": {},
   "source": [
    "MAchine Learning Algorithm Follows the rule\n",
    "\n",
    "- GIGO - Garbage in garbage out"
   ]
  },
  {
   "cell_type": "markdown",
   "metadata": {},
   "source": [
    "# Major Steps in Data Preprocessing\n",
    "\n",
    "- Data Cleaning\n",
    "- Data Integration\n",
    "- Data reduction\n",
    "- Data Tranformation\n",
    "- Data Discretization"
   ]
  },
  {
   "cell_type": "markdown",
   "metadata": {},
   "source": [
    "## Data Cleaning\n",
    "\n",
    "Data Cleaning means filling the missing values,smooth out noise while identufying outliers and correct and incosistencies in the data"
   ]
  },
  {
   "cell_type": "markdown",
   "metadata": {},
   "source": [
    "## Data Integrations\n",
    "\n",
    "Data integration is a technique to merge data from multiple sources into a coherent data store, such as warehourse"
   ]
  },
  {
   "cell_type": "markdown",
   "metadata": {},
   "source": [
    "## Data Reduction\n",
    "\n",
    "Data Reduction is a technique use to reduce the data size by aggregating,eliminating redundant features or clustering for instance"
   ]
  },
  {
   "cell_type": "markdown",
   "metadata": {},
   "source": [
    "## Data Tranformation\n",
    "\n",
    "Data transformation means data transformed or consolidated into forms appropriate for ML model training such as normalization may be applied where data are scaled to fall within a smaller range like 0.0 to 1.0\n",
    "\n",
    "This can be done with the help of \n",
    "- Aggregation \n",
    "- Feature type conversion\n",
    "- Normalization\n",
    "- Attribute"
   ]
  },
  {
   "cell_type": "markdown",
   "metadata": {},
   "source": [
    "## Data Discretization \n",
    "\n",
    "Data Discreation technique transforms numeric data by mapping values to interval or concept labels\n",
    "\n",
    "It can be used to reduce the numbers of valuesfor a given continuous attribute by dividing the range of the attribute into intervals\n",
    "\n",
    "Discretization techniques include\n",
    "\n",
    "- Binning\n",
    "- Histogram analysis\n",
    "- Cluster analysis\n",
    "- Decision Tree\n",
    "- Correlation analysis"
   ]
  },
  {
   "cell_type": "markdown",
   "metadata": {},
   "source": [
    "# Python Libarires Required\n",
    "\n",
    "1.Numpy\n",
    "\n",
    "2.Pandas\n",
    "\n",
    "3.Matplotlib\n",
    "\n",
    "4.Seaborn\n",
    "\n",
    "5.Scikit Learn\n"
   ]
  },
  {
   "cell_type": "markdown",
   "metadata": {},
   "source": []
  },
  {
   "cell_type": "code",
   "execution_count": null,
   "metadata": {},
   "outputs": [],
   "source": []
  },
  {
   "cell_type": "markdown",
   "metadata": {},
   "source": []
  },
  {
   "cell_type": "code",
   "execution_count": null,
   "metadata": {},
   "outputs": [],
   "source": []
  },
  {
   "cell_type": "markdown",
   "metadata": {},
   "source": []
  },
  {
   "cell_type": "code",
   "execution_count": null,
   "metadata": {},
   "outputs": [],
   "source": []
  }
 ],
 "metadata": {
  "kernelspec": {
   "display_name": "Python 3.9.2 64-bit",
   "language": "python",
   "name": "python3"
  },
  "language_info": {
   "name": "python",
   "version": "3.9.2"
  },
  "orig_nbformat": 4,
  "vscode": {
   "interpreter": {
    "hash": "de762dcf16f62adbfb3d5a9198a674f1246b04df5359c4df88d3b0ca00d98a39"
   }
  }
 },
 "nbformat": 4,
 "nbformat_minor": 2
}
